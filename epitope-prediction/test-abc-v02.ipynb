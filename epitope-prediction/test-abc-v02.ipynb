{
 "cells": [
  {
   "cell_type": "markdown",
   "metadata": {},
   "source": [
    "## Import dataset"
   ]
  },
  {
   "cell_type": "code",
   "execution_count": 1,
   "metadata": {},
   "outputs": [
    {
     "data": {
      "text/html": [
       "<div>\n",
       "<style scoped>\n",
       "    .dataframe tbody tr th:only-of-type {\n",
       "        vertical-align: middle;\n",
       "    }\n",
       "\n",
       "    .dataframe tbody tr th {\n",
       "        vertical-align: top;\n",
       "    }\n",
       "\n",
       "    .dataframe thead th {\n",
       "        text-align: right;\n",
       "    }\n",
       "</style>\n",
       "<table border=\"1\" class=\"dataframe\">\n",
       "  <thead>\n",
       "    <tr style=\"text-align: right;\">\n",
       "      <th></th>\n",
       "      <th>parent_protein_id</th>\n",
       "      <th>protein_seq</th>\n",
       "      <th>start_position</th>\n",
       "      <th>end_position</th>\n",
       "      <th>peptide_seq</th>\n",
       "      <th>chou_fasman</th>\n",
       "      <th>emini</th>\n",
       "      <th>kolaskar_tongaonkar</th>\n",
       "      <th>parker</th>\n",
       "      <th>isoelectric_point</th>\n",
       "      <th>aromaticity</th>\n",
       "      <th>hydrophobicity</th>\n",
       "      <th>stability</th>\n",
       "      <th>target</th>\n",
       "    </tr>\n",
       "  </thead>\n",
       "  <tbody>\n",
       "    <tr>\n",
       "      <th>0</th>\n",
       "      <td>A2T3T0</td>\n",
       "      <td>MDVLYSLSKTLKDARDKIVEGTLYSNVSDLIQQFNQMIITMNGNEF...</td>\n",
       "      <td>161</td>\n",
       "      <td>165</td>\n",
       "      <td>SASFT</td>\n",
       "      <td>1.016</td>\n",
       "      <td>0.703</td>\n",
       "      <td>1.018</td>\n",
       "      <td>2.22</td>\n",
       "      <td>5.810364</td>\n",
       "      <td>0.103275</td>\n",
       "      <td>-0.143829</td>\n",
       "      <td>40.273300</td>\n",
       "      <td>1</td>\n",
       "    </tr>\n",
       "    <tr>\n",
       "      <th>1</th>\n",
       "      <td>F0V2I4</td>\n",
       "      <td>MTIHKVAINGFGRIGRLLFRNLLSSQGVQVVAVNDVVDIKVLTHLL...</td>\n",
       "      <td>251</td>\n",
       "      <td>255</td>\n",
       "      <td>LCLKI</td>\n",
       "      <td>0.770</td>\n",
       "      <td>0.179</td>\n",
       "      <td>1.199</td>\n",
       "      <td>-3.86</td>\n",
       "      <td>6.210876</td>\n",
       "      <td>0.065476</td>\n",
       "      <td>-0.036905</td>\n",
       "      <td>24.998512</td>\n",
       "      <td>1</td>\n",
       "    </tr>\n",
       "    <tr>\n",
       "      <th>2</th>\n",
       "      <td>O75508</td>\n",
       "      <td>MVATCLQVVGFVTSFVGWIGVIVTTSTNDWVVTCGYTIPTCRKLDE...</td>\n",
       "      <td>145</td>\n",
       "      <td>149</td>\n",
       "      <td>AHRET</td>\n",
       "      <td>0.852</td>\n",
       "      <td>3.427</td>\n",
       "      <td>0.960</td>\n",
       "      <td>4.28</td>\n",
       "      <td>8.223938</td>\n",
       "      <td>0.091787</td>\n",
       "      <td>0.879227</td>\n",
       "      <td>27.863333</td>\n",
       "      <td>1</td>\n",
       "    </tr>\n",
       "    <tr>\n",
       "      <th>3</th>\n",
       "      <td>O84462</td>\n",
       "      <td>MTNSISGYQPTVTTSTSSTTSASGASGSLGASSVSTTANATVTQTA...</td>\n",
       "      <td>152</td>\n",
       "      <td>156</td>\n",
       "      <td>SNYDD</td>\n",
       "      <td>1.410</td>\n",
       "      <td>2.548</td>\n",
       "      <td>0.936</td>\n",
       "      <td>6.32</td>\n",
       "      <td>4.237976</td>\n",
       "      <td>0.044776</td>\n",
       "      <td>-0.521393</td>\n",
       "      <td>30.765373</td>\n",
       "      <td>1</td>\n",
       "    </tr>\n",
       "    <tr>\n",
       "      <th>4</th>\n",
       "      <td>P00918</td>\n",
       "      <td>MSHHWGYGKHNGPEHWHKDFPIAKGERQSPVDIDTHTAKYDPSLKP...</td>\n",
       "      <td>85</td>\n",
       "      <td>89</td>\n",
       "      <td>DGTYR</td>\n",
       "      <td>1.214</td>\n",
       "      <td>1.908</td>\n",
       "      <td>0.937</td>\n",
       "      <td>4.64</td>\n",
       "      <td>6.867493</td>\n",
       "      <td>0.103846</td>\n",
       "      <td>-0.578846</td>\n",
       "      <td>21.684615</td>\n",
       "      <td>1</td>\n",
       "    </tr>\n",
       "  </tbody>\n",
       "</table>\n",
       "</div>"
      ],
      "text/plain": [
       "  parent_protein_id                                        protein_seq  \\\n",
       "0            A2T3T0  MDVLYSLSKTLKDARDKIVEGTLYSNVSDLIQQFNQMIITMNGNEF...   \n",
       "1            F0V2I4  MTIHKVAINGFGRIGRLLFRNLLSSQGVQVVAVNDVVDIKVLTHLL...   \n",
       "2            O75508  MVATCLQVVGFVTSFVGWIGVIVTTSTNDWVVTCGYTIPTCRKLDE...   \n",
       "3            O84462  MTNSISGYQPTVTTSTSSTTSASGASGSLGASSVSTTANATVTQTA...   \n",
       "4            P00918  MSHHWGYGKHNGPEHWHKDFPIAKGERQSPVDIDTHTAKYDPSLKP...   \n",
       "\n",
       "   start_position  end_position peptide_seq  chou_fasman  emini  \\\n",
       "0             161           165       SASFT        1.016  0.703   \n",
       "1             251           255       LCLKI        0.770  0.179   \n",
       "2             145           149       AHRET        0.852  3.427   \n",
       "3             152           156       SNYDD        1.410  2.548   \n",
       "4              85            89       DGTYR        1.214  1.908   \n",
       "\n",
       "   kolaskar_tongaonkar  parker  isoelectric_point  aromaticity  \\\n",
       "0                1.018    2.22           5.810364     0.103275   \n",
       "1                1.199   -3.86           6.210876     0.065476   \n",
       "2                0.960    4.28           8.223938     0.091787   \n",
       "3                0.936    6.32           4.237976     0.044776   \n",
       "4                0.937    4.64           6.867493     0.103846   \n",
       "\n",
       "   hydrophobicity  stability  target  \n",
       "0       -0.143829  40.273300       1  \n",
       "1       -0.036905  24.998512       1  \n",
       "2        0.879227  27.863333       1  \n",
       "3       -0.521393  30.765373       1  \n",
       "4       -0.578846  21.684615       1  "
      ]
     },
     "execution_count": 1,
     "metadata": {},
     "output_type": "execute_result"
    }
   ],
   "source": [
    "import pandas as pd\n",
    "\n",
    "# Importing the dataset\n",
    "dataset = pd.read_csv('795813_1365687_bundle_archive/input_bcell.csv')\n",
    "\n",
    "dataset.head()"
   ]
  },
  {
   "cell_type": "markdown",
   "metadata": {},
   "source": [
    "## Check columns"
   ]
  },
  {
   "cell_type": "code",
   "execution_count": 2,
   "metadata": {},
   "outputs": [
    {
     "data": {
      "text/plain": [
       "Index(['parent_protein_id', 'protein_seq', 'start_position', 'end_position',\n",
       "       'peptide_seq', 'chou_fasman', 'emini', 'kolaskar_tongaonkar', 'parker',\n",
       "       'isoelectric_point', 'aromaticity', 'hydrophobicity', 'stability',\n",
       "       'target'],\n",
       "      dtype='object')"
      ]
     },
     "execution_count": 2,
     "metadata": {},
     "output_type": "execute_result"
    }
   ],
   "source": [
    "dataset.columns"
   ]
  },
  {
   "cell_type": "markdown",
   "metadata": {},
   "source": [
    "## Search for null values"
   ]
  },
  {
   "cell_type": "code",
   "execution_count": 3,
   "metadata": {},
   "outputs": [
    {
     "data": {
      "text/plain": [
       "parent_protein_id      0\n",
       "protein_seq            0\n",
       "start_position         0\n",
       "end_position           0\n",
       "peptide_seq            0\n",
       "chou_fasman            0\n",
       "emini                  0\n",
       "kolaskar_tongaonkar    0\n",
       "parker                 0\n",
       "isoelectric_point      0\n",
       "aromaticity            0\n",
       "hydrophobicity         0\n",
       "stability              0\n",
       "target                 0\n",
       "dtype: int64"
      ]
     },
     "execution_count": 3,
     "metadata": {},
     "output_type": "execute_result"
    }
   ],
   "source": [
    "dataset.isnull().sum()"
   ]
  },
  {
   "cell_type": "markdown",
   "metadata": {},
   "source": [
    "## Search for categorical columns"
   ]
  },
  {
   "cell_type": "code",
   "execution_count": 4,
   "metadata": {},
   "outputs": [
    {
     "name": "stdout",
     "output_type": "stream",
     "text": [
      "target: [1 0]\n"
     ]
    }
   ],
   "source": [
    "for col in dataset.columns:\n",
    "    x = dataset[col].unique()\n",
    "    if len(x) < 20:\n",
    "        print(f\"{col}: {x}\")"
   ]
  },
  {
   "cell_type": "markdown",
   "metadata": {},
   "source": [
    "## Remove irrelevant features and get input data"
   ]
  },
  {
   "cell_type": "code",
   "execution_count": 5,
   "metadata": {},
   "outputs": [
    {
     "data": {
      "text/html": [
       "<div>\n",
       "<style scoped>\n",
       "    .dataframe tbody tr th:only-of-type {\n",
       "        vertical-align: middle;\n",
       "    }\n",
       "\n",
       "    .dataframe tbody tr th {\n",
       "        vertical-align: top;\n",
       "    }\n",
       "\n",
       "    .dataframe thead th {\n",
       "        text-align: right;\n",
       "    }\n",
       "</style>\n",
       "<table border=\"1\" class=\"dataframe\">\n",
       "  <thead>\n",
       "    <tr style=\"text-align: right;\">\n",
       "      <th></th>\n",
       "      <th>start_position</th>\n",
       "      <th>end_position</th>\n",
       "      <th>chou_fasman</th>\n",
       "      <th>emini</th>\n",
       "      <th>kolaskar_tongaonkar</th>\n",
       "      <th>parker</th>\n",
       "      <th>isoelectric_point</th>\n",
       "      <th>aromaticity</th>\n",
       "      <th>hydrophobicity</th>\n",
       "      <th>stability</th>\n",
       "    </tr>\n",
       "  </thead>\n",
       "  <tbody>\n",
       "    <tr>\n",
       "      <th>0</th>\n",
       "      <td>161</td>\n",
       "      <td>165</td>\n",
       "      <td>1.016</td>\n",
       "      <td>0.703</td>\n",
       "      <td>1.018</td>\n",
       "      <td>2.22</td>\n",
       "      <td>5.810364</td>\n",
       "      <td>0.103275</td>\n",
       "      <td>-0.143829</td>\n",
       "      <td>40.273300</td>\n",
       "    </tr>\n",
       "    <tr>\n",
       "      <th>1</th>\n",
       "      <td>251</td>\n",
       "      <td>255</td>\n",
       "      <td>0.770</td>\n",
       "      <td>0.179</td>\n",
       "      <td>1.199</td>\n",
       "      <td>-3.86</td>\n",
       "      <td>6.210876</td>\n",
       "      <td>0.065476</td>\n",
       "      <td>-0.036905</td>\n",
       "      <td>24.998512</td>\n",
       "    </tr>\n",
       "    <tr>\n",
       "      <th>2</th>\n",
       "      <td>145</td>\n",
       "      <td>149</td>\n",
       "      <td>0.852</td>\n",
       "      <td>3.427</td>\n",
       "      <td>0.960</td>\n",
       "      <td>4.28</td>\n",
       "      <td>8.223938</td>\n",
       "      <td>0.091787</td>\n",
       "      <td>0.879227</td>\n",
       "      <td>27.863333</td>\n",
       "    </tr>\n",
       "    <tr>\n",
       "      <th>3</th>\n",
       "      <td>152</td>\n",
       "      <td>156</td>\n",
       "      <td>1.410</td>\n",
       "      <td>2.548</td>\n",
       "      <td>0.936</td>\n",
       "      <td>6.32</td>\n",
       "      <td>4.237976</td>\n",
       "      <td>0.044776</td>\n",
       "      <td>-0.521393</td>\n",
       "      <td>30.765373</td>\n",
       "    </tr>\n",
       "    <tr>\n",
       "      <th>4</th>\n",
       "      <td>85</td>\n",
       "      <td>89</td>\n",
       "      <td>1.214</td>\n",
       "      <td>1.908</td>\n",
       "      <td>0.937</td>\n",
       "      <td>4.64</td>\n",
       "      <td>6.867493</td>\n",
       "      <td>0.103846</td>\n",
       "      <td>-0.578846</td>\n",
       "      <td>21.684615</td>\n",
       "    </tr>\n",
       "  </tbody>\n",
       "</table>\n",
       "</div>"
      ],
      "text/plain": [
       "   start_position  end_position  chou_fasman  emini  kolaskar_tongaonkar  \\\n",
       "0             161           165        1.016  0.703                1.018   \n",
       "1             251           255        0.770  0.179                1.199   \n",
       "2             145           149        0.852  3.427                0.960   \n",
       "3             152           156        1.410  2.548                0.936   \n",
       "4              85            89        1.214  1.908                0.937   \n",
       "\n",
       "   parker  isoelectric_point  aromaticity  hydrophobicity  stability  \n",
       "0    2.22           5.810364     0.103275       -0.143829  40.273300  \n",
       "1   -3.86           6.210876     0.065476       -0.036905  24.998512  \n",
       "2    4.28           8.223938     0.091787        0.879227  27.863333  \n",
       "3    6.32           4.237976     0.044776       -0.521393  30.765373  \n",
       "4    4.64           6.867493     0.103846       -0.578846  21.684615  "
      ]
     },
     "execution_count": 5,
     "metadata": {},
     "output_type": "execute_result"
    }
   ],
   "source": [
    "X = dataset.drop(columns=['parent_protein_id', 'protein_seq', 'peptide_seq', 'target'])\n",
    "X.head()"
   ]
  },
  {
   "cell_type": "markdown",
   "metadata": {},
   "source": [
    "## Get output data"
   ]
  },
  {
   "cell_type": "code",
   "execution_count": 6,
   "metadata": {},
   "outputs": [
    {
     "data": {
      "text/plain": [
       "0    1\n",
       "1    1\n",
       "2    1\n",
       "3    1\n",
       "4    1\n",
       "Name: target, dtype: int64"
      ]
     },
     "execution_count": 6,
     "metadata": {},
     "output_type": "execute_result"
    }
   ],
   "source": [
    "y = dataset['target']\n",
    "y.head()"
   ]
  },
  {
   "cell_type": "markdown",
   "metadata": {},
   "source": [
    "## Apply feature scaling"
   ]
  },
  {
   "cell_type": "code",
   "execution_count": 7,
   "metadata": {},
   "outputs": [
    {
     "data": {
      "text/plain": [
       "array([[-0.3863855 , -0.40451394,  0.17066955, ...,  1.06912809,\n",
       "         0.66463514, -0.20564963],\n",
       "       [-0.13195355, -0.15007612, -1.80099114, ..., -0.39782531,\n",
       "         0.93560006, -1.12130643],\n",
       "       [-0.43161785, -0.44974733, -1.14377091, ...,  0.62331337,\n",
       "         3.25724616, -0.9495729 ],\n",
       "       ...,\n",
       "       [-0.3072289 , -0.29708464, -1.39223222, ..., -0.15555999,\n",
       "        -0.7475483 ,  0.19010766],\n",
       "       [ 3.33962909,  3.34985741,  0.59545824, ..., -1.21820059,\n",
       "        -0.67131514, -0.8518031 ],\n",
       "       [ 3.81456874,  3.824808  , -0.26213401, ..., -1.21820059,\n",
       "        -0.67131514, -0.8518031 ]])"
      ]
     },
     "execution_count": 7,
     "metadata": {},
     "output_type": "execute_result"
    }
   ],
   "source": [
    "# Feature Scaling\n",
    "from sklearn.preprocessing import StandardScaler\n",
    "sc = StandardScaler()\n",
    "X = sc.fit_transform(X)\n",
    "\n",
    "X"
   ]
  },
  {
   "cell_type": "markdown",
   "metadata": {},
   "source": [
    "## Split data in training and test sets"
   ]
  },
  {
   "cell_type": "code",
   "execution_count": 8,
   "metadata": {},
   "outputs": [],
   "source": [
    "# Splitting the dataset into the Training set and Test set\n",
    "from sklearn.model_selection import train_test_split\n",
    "X_train, X_test, y_train, y_test = train_test_split(X, y, test_size = 0.1, random_state = 0)"
   ]
  },
  {
   "cell_type": "markdown",
   "metadata": {},
   "source": [
    "## Build ANN"
   ]
  },
  {
   "cell_type": "code",
   "execution_count": 9,
   "metadata": {},
   "outputs": [
    {
     "name": "stdout",
     "output_type": "stream",
     "text": [
      "Epoch 1/100\n",
      "1295/1295 [==============================] - 1s 1ms/step - loss: 0.5629 - accuracy: 0.7288\n",
      "Epoch 2/100\n",
      "1295/1295 [==============================] - 1s 954us/step - loss: 0.5511 - accuracy: 0.7292\n",
      "Epoch 3/100\n",
      "1295/1295 [==============================] - 1s 970us/step - loss: 0.5489 - accuracy: 0.7349\n",
      "Epoch 4/100\n",
      "1295/1295 [==============================] - 1s 955us/step - loss: 0.5463 - accuracy: 0.7398\n",
      "Epoch 5/100\n",
      "1295/1295 [==============================] - 1s 966us/step - loss: 0.5430 - accuracy: 0.7439\n",
      "Epoch 6/100\n",
      "1295/1295 [==============================] - 1s 959us/step - loss: 0.5374 - accuracy: 0.7506\n",
      "Epoch 7/100\n",
      "1295/1295 [==============================] - 1s 953us/step - loss: 0.5324 - accuracy: 0.7573\n",
      "Epoch 8/100\n",
      "1295/1295 [==============================] - 1s 951us/step - loss: 0.5280 - accuracy: 0.7581\n",
      "Epoch 9/100\n",
      "1295/1295 [==============================] - 1s 981us/step - loss: 0.5253 - accuracy: 0.7593\n",
      "Epoch 10/100\n",
      "1295/1295 [==============================] - 1s 857us/step - loss: 0.5234 - accuracy: 0.7600\n",
      "Epoch 11/100\n",
      "1295/1295 [==============================] - 1s 853us/step - loss: 0.5207 - accuracy: 0.7638\n",
      "Epoch 12/100\n",
      "1295/1295 [==============================] - 1s 853us/step - loss: 0.5191 - accuracy: 0.7621\n",
      "Epoch 13/100\n",
      "1295/1295 [==============================] - 1s 863us/step - loss: 0.5186 - accuracy: 0.7650\n",
      "Epoch 14/100\n",
      "1295/1295 [==============================] - 1s 871us/step - loss: 0.5173 - accuracy: 0.7632\n",
      "Epoch 15/100\n",
      "1295/1295 [==============================] - 1s 840us/step - loss: 0.5161 - accuracy: 0.7665\n",
      "Epoch 16/100\n",
      "1295/1295 [==============================] - 1s 849us/step - loss: 0.5140 - accuracy: 0.7657\n",
      "Epoch 17/100\n",
      "1295/1295 [==============================] - 1s 832us/step - loss: 0.5127 - accuracy: 0.7666\n",
      "Epoch 18/100\n",
      "1295/1295 [==============================] - 1s 859us/step - loss: 0.5123 - accuracy: 0.7658\n",
      "Epoch 19/100\n",
      "1295/1295 [==============================] - 1s 924us/step - loss: 0.5092 - accuracy: 0.7643\n",
      "Epoch 20/100\n",
      "1295/1295 [==============================] - 1s 938us/step - loss: 0.5077 - accuracy: 0.7661\n",
      "Epoch 21/100\n",
      "1295/1295 [==============================] - 1s 980us/step - loss: 0.5051 - accuracy: 0.7683\n",
      "Epoch 22/100\n",
      "1295/1295 [==============================] - 1s 963us/step - loss: 0.5028 - accuracy: 0.7715\n",
      "Epoch 23/100\n",
      "1295/1295 [==============================] - 1s 965us/step - loss: 0.4999 - accuracy: 0.7746\n",
      "Epoch 24/100\n",
      "1295/1295 [==============================] - 1s 966us/step - loss: 0.4973 - accuracy: 0.7756\n",
      "Epoch 25/100\n",
      "1295/1295 [==============================] - 1s 965us/step - loss: 0.4942 - accuracy: 0.7770\n",
      "Epoch 26/100\n",
      "1295/1295 [==============================] - 1s 971us/step - loss: 0.4903 - accuracy: 0.7783\n",
      "Epoch 27/100\n",
      "1295/1295 [==============================] - 1s 974us/step - loss: 0.4894 - accuracy: 0.7811\n",
      "Epoch 28/100\n",
      "1295/1295 [==============================] - 1s 981us/step - loss: 0.4883 - accuracy: 0.7781\n",
      "Epoch 29/100\n",
      "1295/1295 [==============================] - 1s 964us/step - loss: 0.4871 - accuracy: 0.7833\n",
      "Epoch 30/100\n",
      "1295/1295 [==============================] - 1s 971us/step - loss: 0.4833 - accuracy: 0.7848\n",
      "Epoch 31/100\n",
      "1295/1295 [==============================] - 1s 979us/step - loss: 0.4826 - accuracy: 0.7865\n",
      "Epoch 32/100\n",
      "1295/1295 [==============================] - 1s 966us/step - loss: 0.4821 - accuracy: 0.7832\n",
      "Epoch 33/100\n",
      "1295/1295 [==============================] - 1s 966us/step - loss: 0.4812 - accuracy: 0.7850\n",
      "Epoch 34/100\n",
      "1295/1295 [==============================] - 1s 967us/step - loss: 0.4791 - accuracy: 0.7867\n",
      "Epoch 35/100\n",
      "1295/1295 [==============================] - 1s 968us/step - loss: 0.4770 - accuracy: 0.7865\n",
      "Epoch 36/100\n",
      "1295/1295 [==============================] - 1s 977us/step - loss: 0.4736 - accuracy: 0.7879\n",
      "Epoch 37/100\n",
      "1295/1295 [==============================] - 1s 968us/step - loss: 0.4723 - accuracy: 0.7870\n",
      "Epoch 38/100\n",
      "1295/1295 [==============================] - 1s 992us/step - loss: 0.4715 - accuracy: 0.7917\n",
      "Epoch 39/100\n",
      "1295/1295 [==============================] - 1s 976us/step - loss: 0.4675 - accuracy: 0.7905\n",
      "Epoch 40/100\n",
      "1295/1295 [==============================] - 1s 983us/step - loss: 0.4672 - accuracy: 0.7897\n",
      "Epoch 41/100\n",
      "1295/1295 [==============================] - 1s 986us/step - loss: 0.4654 - accuracy: 0.7924\n",
      "Epoch 42/100\n",
      "1295/1295 [==============================] - 1s 978us/step - loss: 0.4644 - accuracy: 0.7934\n",
      "Epoch 43/100\n",
      "1295/1295 [==============================] - 1s 981us/step - loss: 0.4644 - accuracy: 0.7923\n",
      "Epoch 44/100\n",
      "1295/1295 [==============================] - 1s 972us/step - loss: 0.4597 - accuracy: 0.7929\n",
      "Epoch 45/100\n",
      "1295/1295 [==============================] - 1s 980us/step - loss: 0.4607 - accuracy: 0.7943\n",
      "Epoch 46/100\n",
      "1295/1295 [==============================] - 1s 988us/step - loss: 0.4571 - accuracy: 0.7963\n",
      "Epoch 47/100\n",
      "1295/1295 [==============================] - 1s 970us/step - loss: 0.4572 - accuracy: 0.7969\n",
      "Epoch 48/100\n",
      "1295/1295 [==============================] - 1s 971us/step - loss: 0.4571 - accuracy: 0.7972\n",
      "Epoch 49/100\n",
      "1295/1295 [==============================] - 1s 976us/step - loss: 0.4541 - accuracy: 0.7997\n",
      "Epoch 50/100\n",
      "1295/1295 [==============================] - 1s 968us/step - loss: 0.4543 - accuracy: 0.7979\n",
      "Epoch 51/100\n",
      "1295/1295 [==============================] - 1s 971us/step - loss: 0.4548 - accuracy: 0.7986\n",
      "Epoch 52/100\n",
      "1295/1295 [==============================] - 1s 971us/step - loss: 0.4525 - accuracy: 0.8017\n",
      "Epoch 53/100\n",
      "1295/1295 [==============================] - 1s 972us/step - loss: 0.4492 - accuracy: 0.8019\n",
      "Epoch 54/100\n",
      "1295/1295 [==============================] - 1s 987us/step - loss: 0.4487 - accuracy: 0.7998\n",
      "Epoch 55/100\n",
      "1295/1295 [==============================] - 1s 964us/step - loss: 0.4486 - accuracy: 0.8027\n",
      "Epoch 56/100\n",
      "1295/1295 [==============================] - 1s 856us/step - loss: 0.4463 - accuracy: 0.8041\n",
      "Epoch 57/100\n",
      "1295/1295 [==============================] - 1s 891us/step - loss: 0.4471 - accuracy: 0.8002\n",
      "Epoch 58/100\n",
      "1295/1295 [==============================] - 1s 928us/step - loss: 0.4424 - accuracy: 0.8031\n",
      "Epoch 59/100\n",
      "1295/1295 [==============================] - 1s 929us/step - loss: 0.4449 - accuracy: 0.8031\n",
      "Epoch 60/100\n",
      "1295/1295 [==============================] - 1s 866us/step - loss: 0.4431 - accuracy: 0.8035\n",
      "Epoch 61/100\n",
      "1295/1295 [==============================] - 1s 857us/step - loss: 0.4437 - accuracy: 0.7989\n",
      "Epoch 62/100\n",
      "1295/1295 [==============================] - 1s 885us/step - loss: 0.4455 - accuracy: 0.8037\n",
      "Epoch 63/100\n",
      "1295/1295 [==============================] - 1s 883us/step - loss: 0.4431 - accuracy: 0.8027\n",
      "Epoch 64/100\n",
      "1295/1295 [==============================] - 1s 926us/step - loss: 0.4440 - accuracy: 0.8006\n",
      "Epoch 65/100\n",
      "1295/1295 [==============================] - 1s 926us/step - loss: 0.4482 - accuracy: 0.8024\n",
      "Epoch 66/100\n",
      "1295/1295 [==============================] - 1s 930us/step - loss: 0.4480 - accuracy: 0.8028\n",
      "Epoch 67/100\n",
      "1295/1295 [==============================] - 1s 920us/step - loss: 0.4449 - accuracy: 0.8088\n",
      "Epoch 68/100\n",
      "1295/1295 [==============================] - 1s 928us/step - loss: 0.4462 - accuracy: 0.8048\n",
      "Epoch 69/100\n",
      "1295/1295 [==============================] - 1s 930us/step - loss: 0.4427 - accuracy: 0.8071\n",
      "Epoch 70/100\n",
      "1295/1295 [==============================] - 1s 931us/step - loss: 0.4432 - accuracy: 0.8081\n",
      "Epoch 71/100\n",
      "1295/1295 [==============================] - 1s 924us/step - loss: 0.4435 - accuracy: 0.8100\n",
      "Epoch 72/100\n",
      "1295/1295 [==============================] - 1s 926us/step - loss: 0.4434 - accuracy: 0.8095\n",
      "Epoch 73/100\n",
      "1295/1295 [==============================] - 1s 931us/step - loss: 0.4425 - accuracy: 0.8073\n",
      "Epoch 74/100\n",
      "1295/1295 [==============================] - 1s 932us/step - loss: 0.4412 - accuracy: 0.8118\n",
      "Epoch 75/100\n",
      "1295/1295 [==============================] - 1s 927us/step - loss: 0.4384 - accuracy: 0.8124\n",
      "Epoch 76/100\n",
      "1295/1295 [==============================] - 1s 916us/step - loss: 0.4365 - accuracy: 0.8122\n",
      "Epoch 77/100\n",
      "1295/1295 [==============================] - 1s 940us/step - loss: 0.4386 - accuracy: 0.8116\n",
      "Epoch 78/100\n"
     ]
    },
    {
     "name": "stdout",
     "output_type": "stream",
     "text": [
      "1295/1295 [==============================] - 1s 901us/step - loss: 0.4385 - accuracy: 0.8129\n",
      "Epoch 79/100\n",
      "1295/1295 [==============================] - 1s 907us/step - loss: 0.4379 - accuracy: 0.8133\n",
      "Epoch 80/100\n",
      "1295/1295 [==============================] - 1s 924us/step - loss: 0.4370 - accuracy: 0.8119\n",
      "Epoch 81/100\n",
      "1295/1295 [==============================] - 1s 948us/step - loss: 0.4364 - accuracy: 0.81290s - los\n",
      "Epoch 82/100\n",
      "1295/1295 [==============================] - 1s 943us/step - loss: 0.4318 - accuracy: 0.8148\n",
      "Epoch 83/100\n",
      "1295/1295 [==============================] - 1s 920us/step - loss: 0.4320 - accuracy: 0.8153\n",
      "Epoch 84/100\n",
      "1295/1295 [==============================] - 1s 936us/step - loss: 0.4349 - accuracy: 0.8127\n",
      "Epoch 85/100\n",
      "1295/1295 [==============================] - 1s 907us/step - loss: 0.4378 - accuracy: 0.8158\n",
      "Epoch 86/100\n",
      "1295/1295 [==============================] - 1s 886us/step - loss: 0.4328 - accuracy: 0.8188\n",
      "Epoch 87/100\n",
      "1295/1295 [==============================] - 1s 904us/step - loss: 0.4344 - accuracy: 0.8154\n",
      "Epoch 88/100\n",
      "1295/1295 [==============================] - 1s 960us/step - loss: 0.4326 - accuracy: 0.8144\n",
      "Epoch 89/100\n",
      "1295/1295 [==============================] - 1s 870us/step - loss: 0.4330 - accuracy: 0.8171\n",
      "Epoch 90/100\n",
      "1295/1295 [==============================] - 1s 856us/step - loss: 0.4319 - accuracy: 0.8152\n",
      "Epoch 91/100\n",
      "1295/1295 [==============================] - 1s 887us/step - loss: 0.4356 - accuracy: 0.8172\n",
      "Epoch 92/100\n",
      "1295/1295 [==============================] - 1s 870us/step - loss: 0.4346 - accuracy: 0.8163\n",
      "Epoch 93/100\n",
      "1295/1295 [==============================] - 1s 879us/step - loss: 0.4371 - accuracy: 0.8171\n",
      "Epoch 94/100\n",
      "1295/1295 [==============================] - 1s 871us/step - loss: 0.4351 - accuracy: 0.8146\n",
      "Epoch 95/100\n",
      "1295/1295 [==============================] - 1s 856us/step - loss: 0.4334 - accuracy: 0.8154\n",
      "Epoch 96/100\n",
      "1295/1295 [==============================] - 1s 876us/step - loss: 0.4366 - accuracy: 0.8138\n",
      "Epoch 97/100\n",
      "1295/1295 [==============================] - 1s 907us/step - loss: 0.4379 - accuracy: 0.8165\n",
      "Epoch 98/100\n",
      "1295/1295 [==============================] - 1s 944us/step - loss: 0.4393 - accuracy: 0.8153\n",
      "Epoch 99/100\n",
      "1295/1295 [==============================] - 1s 941us/step - loss: 0.4350 - accuracy: 0.8163\n",
      "Epoch 100/100\n",
      "1295/1295 [==============================] - 1s 942us/step - loss: 0.4367 - accuracy: 0.8157\n"
     ]
    },
    {
     "data": {
      "text/plain": [
       "<tensorflow.python.keras.callbacks.History at 0x26d51802a48>"
      ]
     },
     "execution_count": 9,
     "metadata": {},
     "output_type": "execute_result"
    }
   ],
   "source": [
    "# Imports\n",
    "from keras.wrappers.scikit_learn import KerasClassifier\n",
    "from sklearn.model_selection import GridSearchCV\n",
    "from keras.models import Sequential\n",
    "from keras.layers import Dense\n",
    "\n",
    "classifier = Sequential()\n",
    "classifier.add(Dense(units = 10, kernel_initializer = 'uniform', activation = 'relu', input_dim = 10))\n",
    "classifier.add(Dense(units = 50, kernel_initializer = 'uniform', activation = 'relu'))\n",
    "classifier.add(Dense(units = 30, kernel_initializer = 'uniform', activation = 'relu'))\n",
    "classifier.add(Dense(units = 20, kernel_initializer = 'uniform', activation = 'relu'))\n",
    "classifier.add(Dense(units = 1, kernel_initializer = 'uniform', activation = 'sigmoid'))\n",
    "classifier.compile(optimizer = 'rmsprop', loss = 'binary_crossentropy', metrics = ['accuracy'])\n",
    "\n",
    "classifier.fit(X_train, y_train, batch_size = 10, epochs = 100)"
   ]
  },
  {
   "cell_type": "markdown",
   "metadata": {},
   "source": [
    "## Save the ANN"
   ]
  },
  {
   "cell_type": "code",
   "execution_count": 10,
   "metadata": {},
   "outputs": [],
   "source": [
    "# Save the model\n",
    "classifier.save('test-abc-v02.h5')\n",
    "\n",
    "# Save a dictionary into a pickle file.\n",
    "import pickle\n",
    "pickle.dump( sc, open( \"test-abc-v02.p\", \"wb\" ) )"
   ]
  },
  {
   "cell_type": "markdown",
   "metadata": {},
   "source": [
    "## Predict over test set and check confusion matrix"
   ]
  },
  {
   "cell_type": "code",
   "execution_count": 11,
   "metadata": {},
   "outputs": [
    {
     "data": {
      "text/plain": [
       "array([[957,  90],\n",
       "       [209, 183]], dtype=int64)"
      ]
     },
     "execution_count": 11,
     "metadata": {},
     "output_type": "execute_result"
    }
   ],
   "source": [
    "# Predicting the Test set results\n",
    "y_pred = classifier.predict(X_test)\n",
    "y_pred = (y_pred > 0.5)\n",
    "\n",
    "# Making the Confusion Matrix\n",
    "from sklearn.metrics import confusion_matrix\n",
    "cm = confusion_matrix(y_test, y_pred)\n",
    "\n",
    "cm"
   ]
  },
  {
   "cell_type": "code",
   "execution_count": 12,
   "metadata": {},
   "outputs": [
    {
     "data": {
      "text/plain": [
       "<AxesSubplot:>"
      ]
     },
     "execution_count": 12,
     "metadata": {},
     "output_type": "execute_result"
    },
    {
     "data": {
      "image/png": "[encoded data removed]",
      "text/plain": [
       "<Figure size 432x288 with 2 Axes>"
      ]
     },
     "metadata": {
      "needs_background": "light"
     },
     "output_type": "display_data"
    }
   ],
   "source": [
    "import seaborn as sn\n",
    "sn.heatmap(cm, cmap=\"Blues\", annot=True,annot_kws={\"size\": 16})"
   ]
  },
  {
   "cell_type": "markdown",
   "metadata": {},
   "source": [
    "## Get final ANN accuracy over test set"
   ]
  },
  {
   "cell_type": "code",
   "execution_count": 13,
   "metadata": {},
   "outputs": [
    {
     "name": "stdout",
     "output_type": "stream",
     "text": [
      "VALIDATION ACCURACY 0.7922168172341905\n"
     ]
    }
   ],
   "source": [
    "from sklearn.metrics import accuracy_score\n",
    "\n",
    "print('VALIDATION ACCURACY', accuracy_score(y_test, y_pred))"
   ]
  },
  {
   "cell_type": "markdown",
   "metadata": {},
   "source": [
    "## Get SARS data"
   ]
  },
  {
   "cell_type": "code",
   "execution_count": 14,
   "metadata": {},
   "outputs": [
    {
     "data": {
      "text/html": [
       "<div>\n",
       "<style scoped>\n",
       "    .dataframe tbody tr th:only-of-type {\n",
       "        vertical-align: middle;\n",
       "    }\n",
       "\n",
       "    .dataframe tbody tr th {\n",
       "        vertical-align: top;\n",
       "    }\n",
       "\n",
       "    .dataframe thead th {\n",
       "        text-align: right;\n",
       "    }\n",
       "</style>\n",
       "<table border=\"1\" class=\"dataframe\">\n",
       "  <thead>\n",
       "    <tr style=\"text-align: right;\">\n",
       "      <th></th>\n",
       "      <th>parent_protein_id</th>\n",
       "      <th>protein_seq</th>\n",
       "      <th>start_position</th>\n",
       "      <th>end_position</th>\n",
       "      <th>peptide_seq</th>\n",
       "      <th>chou_fasman</th>\n",
       "      <th>emini</th>\n",
       "      <th>kolaskar_tongaonkar</th>\n",
       "      <th>parker</th>\n",
       "      <th>isoelectric_point</th>\n",
       "      <th>aromaticity</th>\n",
       "      <th>hydrophobicity</th>\n",
       "      <th>stability</th>\n",
       "      <th>target</th>\n",
       "    </tr>\n",
       "  </thead>\n",
       "  <tbody>\n",
       "    <tr>\n",
       "      <th>0</th>\n",
       "      <td>AAU93319</td>\n",
       "      <td>MFIFLLFLTLTSGSDLDRCTTFDDVQAPNYTQHTSSMRGVYYPDEI...</td>\n",
       "      <td>1</td>\n",
       "      <td>17</td>\n",
       "      <td>MFIFLLFLTLTSGSDLD</td>\n",
       "      <td>0.887</td>\n",
       "      <td>0.040</td>\n",
       "      <td>1.056</td>\n",
       "      <td>-2.159</td>\n",
       "      <td>5.569763</td>\n",
       "      <td>0.116335</td>\n",
       "      <td>-0.061116</td>\n",
       "      <td>33.205116</td>\n",
       "      <td>0</td>\n",
       "    </tr>\n",
       "    <tr>\n",
       "      <th>1</th>\n",
       "      <td>AAU93319</td>\n",
       "      <td>MFIFLLFLTLTSGSDLDRCTTFDDVQAPNYTQHTSSMRGVYYPDEI...</td>\n",
       "      <td>1</td>\n",
       "      <td>15</td>\n",
       "      <td>MFIFLLFLTLTSGSD</td>\n",
       "      <td>0.869</td>\n",
       "      <td>0.047</td>\n",
       "      <td>1.056</td>\n",
       "      <td>-2.500</td>\n",
       "      <td>5.569763</td>\n",
       "      <td>0.116335</td>\n",
       "      <td>-0.061116</td>\n",
       "      <td>33.205116</td>\n",
       "      <td>0</td>\n",
       "    </tr>\n",
       "    <tr>\n",
       "      <th>2</th>\n",
       "      <td>AAU93319</td>\n",
       "      <td>MFIFLLFLTLTSGSDLDRCTTFDDVQAPNYTQHTSSMRGVYYPDEI...</td>\n",
       "      <td>2</td>\n",
       "      <td>10</td>\n",
       "      <td>FIFLLFLTL</td>\n",
       "      <td>0.621</td>\n",
       "      <td>0.042</td>\n",
       "      <td>1.148</td>\n",
       "      <td>-7.467</td>\n",
       "      <td>5.569763</td>\n",
       "      <td>0.116335</td>\n",
       "      <td>-0.061116</td>\n",
       "      <td>33.205116</td>\n",
       "      <td>0</td>\n",
       "    </tr>\n",
       "    <tr>\n",
       "      <th>3</th>\n",
       "      <td>AAU93319</td>\n",
       "      <td>MFIFLLFLTLTSGSDLDRCTTFDDVQAPNYTQHTSSMRGVYYPDEI...</td>\n",
       "      <td>6</td>\n",
       "      <td>20</td>\n",
       "      <td>LFLTLTSGSDLDRCT</td>\n",
       "      <td>1.021</td>\n",
       "      <td>0.230</td>\n",
       "      <td>1.049</td>\n",
       "      <td>0.927</td>\n",
       "      <td>5.569763</td>\n",
       "      <td>0.116335</td>\n",
       "      <td>-0.061116</td>\n",
       "      <td>33.205116</td>\n",
       "      <td>0</td>\n",
       "    </tr>\n",
       "    <tr>\n",
       "      <th>4</th>\n",
       "      <td>AAU93319</td>\n",
       "      <td>MFIFLLFLTLTSGSDLDRCTTFDDVQAPNYTQHTSSMRGVYYPDEI...</td>\n",
       "      <td>9</td>\n",
       "      <td>25</td>\n",
       "      <td>TLTSGSDLDRCTTFDDV</td>\n",
       "      <td>1.089</td>\n",
       "      <td>0.627</td>\n",
       "      <td>1.015</td>\n",
       "      <td>3.165</td>\n",
       "      <td>5.569763</td>\n",
       "      <td>0.116335</td>\n",
       "      <td>-0.061116</td>\n",
       "      <td>33.205116</td>\n",
       "      <td>0</td>\n",
       "    </tr>\n",
       "  </tbody>\n",
       "</table>\n",
       "</div>"
      ],
      "text/plain": [
       "  parent_protein_id                                        protein_seq  \\\n",
       "0          AAU93319  MFIFLLFLTLTSGSDLDRCTTFDDVQAPNYTQHTSSMRGVYYPDEI...   \n",
       "1          AAU93319  MFIFLLFLTLTSGSDLDRCTTFDDVQAPNYTQHTSSMRGVYYPDEI...   \n",
       "2          AAU93319  MFIFLLFLTLTSGSDLDRCTTFDDVQAPNYTQHTSSMRGVYYPDEI...   \n",
       "3          AAU93319  MFIFLLFLTLTSGSDLDRCTTFDDVQAPNYTQHTSSMRGVYYPDEI...   \n",
       "4          AAU93319  MFIFLLFLTLTSGSDLDRCTTFDDVQAPNYTQHTSSMRGVYYPDEI...   \n",
       "\n",
       "   start_position  end_position        peptide_seq  chou_fasman  emini  \\\n",
       "0               1            17  MFIFLLFLTLTSGSDLD        0.887  0.040   \n",
       "1               1            15    MFIFLLFLTLTSGSD        0.869  0.047   \n",
       "2               2            10          FIFLLFLTL        0.621  0.042   \n",
       "3               6            20    LFLTLTSGSDLDRCT        1.021  0.230   \n",
       "4               9            25  TLTSGSDLDRCTTFDDV        1.089  0.627   \n",
       "\n",
       "   kolaskar_tongaonkar  parker  isoelectric_point  aromaticity  \\\n",
       "0                1.056  -2.159           5.569763     0.116335   \n",
       "1                1.056  -2.500           5.569763     0.116335   \n",
       "2                1.148  -7.467           5.569763     0.116335   \n",
       "3                1.049   0.927           5.569763     0.116335   \n",
       "4                1.015   3.165           5.569763     0.116335   \n",
       "\n",
       "   hydrophobicity  stability  target  \n",
       "0       -0.061116  33.205116       0  \n",
       "1       -0.061116  33.205116       0  \n",
       "2       -0.061116  33.205116       0  \n",
       "3       -0.061116  33.205116       0  \n",
       "4       -0.061116  33.205116       0  "
      ]
     },
     "execution_count": 14,
     "metadata": {},
     "output_type": "execute_result"
    }
   ],
   "source": [
    "sars = pd.read_csv('795813_1365687_bundle_archive/input_sars.csv')\n",
    "\n",
    "sars.head()"
   ]
  },
  {
   "cell_type": "code",
   "execution_count": 15,
   "metadata": {},
   "outputs": [
    {
     "data": {
      "text/plain": [
       "Index(['parent_protein_id', 'protein_seq', 'start_position', 'end_position',\n",
       "       'peptide_seq', 'chou_fasman', 'emini', 'kolaskar_tongaonkar', 'parker',\n",
       "       'isoelectric_point', 'aromaticity', 'hydrophobicity', 'stability',\n",
       "       'target'],\n",
       "      dtype='object')"
      ]
     },
     "execution_count": 15,
     "metadata": {},
     "output_type": "execute_result"
    }
   ],
   "source": [
    "sars.columns"
   ]
  },
  {
   "cell_type": "code",
   "execution_count": 16,
   "metadata": {},
   "outputs": [
    {
     "data": {
      "text/plain": [
       "parent_protein_id      0\n",
       "protein_seq            0\n",
       "start_position         0\n",
       "end_position           0\n",
       "peptide_seq            0\n",
       "chou_fasman            0\n",
       "emini                  0\n",
       "kolaskar_tongaonkar    0\n",
       "parker                 0\n",
       "isoelectric_point      0\n",
       "aromaticity            0\n",
       "hydrophobicity         0\n",
       "stability              0\n",
       "target                 0\n",
       "dtype: int64"
      ]
     },
     "execution_count": 16,
     "metadata": {},
     "output_type": "execute_result"
    }
   ],
   "source": [
    "sars.isnull().sum()"
   ]
  },
  {
   "cell_type": "code",
   "execution_count": 17,
   "metadata": {},
   "outputs": [
    {
     "data": {
      "text/html": [
       "<div>\n",
       "<style scoped>\n",
       "    .dataframe tbody tr th:only-of-type {\n",
       "        vertical-align: middle;\n",
       "    }\n",
       "\n",
       "    .dataframe tbody tr th {\n",
       "        vertical-align: top;\n",
       "    }\n",
       "\n",
       "    .dataframe thead th {\n",
       "        text-align: right;\n",
       "    }\n",
       "</style>\n",
       "<table border=\"1\" class=\"dataframe\">\n",
       "  <thead>\n",
       "    <tr style=\"text-align: right;\">\n",
       "      <th></th>\n",
       "      <th>start_position</th>\n",
       "      <th>end_position</th>\n",
       "      <th>chou_fasman</th>\n",
       "      <th>emini</th>\n",
       "      <th>kolaskar_tongaonkar</th>\n",
       "      <th>parker</th>\n",
       "      <th>isoelectric_point</th>\n",
       "      <th>aromaticity</th>\n",
       "      <th>hydrophobicity</th>\n",
       "      <th>stability</th>\n",
       "    </tr>\n",
       "  </thead>\n",
       "  <tbody>\n",
       "    <tr>\n",
       "      <th>0</th>\n",
       "      <td>1</td>\n",
       "      <td>17</td>\n",
       "      <td>0.887</td>\n",
       "      <td>0.040</td>\n",
       "      <td>1.056</td>\n",
       "      <td>-2.159</td>\n",
       "      <td>5.569763</td>\n",
       "      <td>0.116335</td>\n",
       "      <td>-0.061116</td>\n",
       "      <td>33.205116</td>\n",
       "    </tr>\n",
       "    <tr>\n",
       "      <th>1</th>\n",
       "      <td>1</td>\n",
       "      <td>15</td>\n",
       "      <td>0.869</td>\n",
       "      <td>0.047</td>\n",
       "      <td>1.056</td>\n",
       "      <td>-2.500</td>\n",
       "      <td>5.569763</td>\n",
       "      <td>0.116335</td>\n",
       "      <td>-0.061116</td>\n",
       "      <td>33.205116</td>\n",
       "    </tr>\n",
       "    <tr>\n",
       "      <th>2</th>\n",
       "      <td>2</td>\n",
       "      <td>10</td>\n",
       "      <td>0.621</td>\n",
       "      <td>0.042</td>\n",
       "      <td>1.148</td>\n",
       "      <td>-7.467</td>\n",
       "      <td>5.569763</td>\n",
       "      <td>0.116335</td>\n",
       "      <td>-0.061116</td>\n",
       "      <td>33.205116</td>\n",
       "    </tr>\n",
       "    <tr>\n",
       "      <th>3</th>\n",
       "      <td>6</td>\n",
       "      <td>20</td>\n",
       "      <td>1.021</td>\n",
       "      <td>0.230</td>\n",
       "      <td>1.049</td>\n",
       "      <td>0.927</td>\n",
       "      <td>5.569763</td>\n",
       "      <td>0.116335</td>\n",
       "      <td>-0.061116</td>\n",
       "      <td>33.205116</td>\n",
       "    </tr>\n",
       "    <tr>\n",
       "      <th>4</th>\n",
       "      <td>9</td>\n",
       "      <td>25</td>\n",
       "      <td>1.089</td>\n",
       "      <td>0.627</td>\n",
       "      <td>1.015</td>\n",
       "      <td>3.165</td>\n",
       "      <td>5.569763</td>\n",
       "      <td>0.116335</td>\n",
       "      <td>-0.061116</td>\n",
       "      <td>33.205116</td>\n",
       "    </tr>\n",
       "  </tbody>\n",
       "</table>\n",
       "</div>"
      ],
      "text/plain": [
       "   start_position  end_position  chou_fasman  emini  kolaskar_tongaonkar  \\\n",
       "0               1            17        0.887  0.040                1.056   \n",
       "1               1            15        0.869  0.047                1.056   \n",
       "2               2            10        0.621  0.042                1.148   \n",
       "3               6            20        1.021  0.230                1.049   \n",
       "4               9            25        1.089  0.627                1.015   \n",
       "\n",
       "   parker  isoelectric_point  aromaticity  hydrophobicity  stability  \n",
       "0  -2.159           5.569763     0.116335       -0.061116  33.205116  \n",
       "1  -2.500           5.569763     0.116335       -0.061116  33.205116  \n",
       "2  -7.467           5.569763     0.116335       -0.061116  33.205116  \n",
       "3   0.927           5.569763     0.116335       -0.061116  33.205116  \n",
       "4   3.165           5.569763     0.116335       -0.061116  33.205116  "
      ]
     },
     "execution_count": 17,
     "metadata": {},
     "output_type": "execute_result"
    }
   ],
   "source": [
    "X_sars = sars.drop(columns=['parent_protein_id', 'protein_seq', 'peptide_seq', 'target'])\n",
    "X_sars.head()"
   ]
  },
  {
   "cell_type": "code",
   "execution_count": 18,
   "metadata": {},
   "outputs": [
    {
     "data": {
      "text/plain": [
       "0    0\n",
       "1    0\n",
       "2    0\n",
       "3    0\n",
       "4    0\n",
       "Name: target, dtype: int64"
      ]
     },
     "execution_count": 18,
     "metadata": {},
     "output_type": "execute_result"
    }
   ],
   "source": [
    "y_sars = sars['target']\n",
    "y_sars.head()"
   ]
  },
  {
   "cell_type": "code",
   "execution_count": 19,
   "metadata": {},
   "outputs": [
    {
     "data": {
      "text/plain": [
       "array([[-1.76629438, -1.77339156, -1.30234227, ...,  0.        ,\n",
       "         1.        , -1.        ],\n",
       "       [-1.76629438, -1.77912256, -1.50898617, ...,  0.        ,\n",
       "         1.        , -1.        ],\n",
       "       [-1.76343107, -1.79345006, -4.35607989, ...,  0.        ,\n",
       "         1.        , -1.        ],\n",
       "       ...,\n",
       "       [ 1.76989555,  1.77409692,  0.23600676, ...,  0.        ,\n",
       "         1.        , -1.        ],\n",
       "       [ 1.76989555,  1.75976942,  0.58041326, ...,  0.        ,\n",
       "         1.        , -1.        ],\n",
       "       [ 1.7842121 ,  1.77409692,  0.31636828, ...,  0.        ,\n",
       "         1.        , -1.        ]])"
      ]
     },
     "execution_count": 19,
     "metadata": {},
     "output_type": "execute_result"
    }
   ],
   "source": [
    "X_sars = sc.transform(X_sars)\n",
    "\n",
    "X_sars"
   ]
  },
  {
   "cell_type": "code",
   "execution_count": 20,
   "metadata": {},
   "outputs": [
    {
     "data": {
      "text/plain": [
       "array([[379,   1],\n",
       "       [139,   1]], dtype=int64)"
      ]
     },
     "execution_count": 20,
     "metadata": {},
     "output_type": "execute_result"
    }
   ],
   "source": [
    "# Predicting the Test set results\n",
    "\n",
    "y_sars_pred = classifier.predict(X_sars)\n",
    "y_sars_pred = (y_sars_pred > 0.5)\n",
    "\n",
    "# Making the Confusion Matrix\n",
    "from sklearn.metrics import confusion_matrix\n",
    "cm = confusion_matrix(y_sars, y_sars_pred)\n",
    "\n",
    "cm"
   ]
  },
  {
   "cell_type": "code",
   "execution_count": 21,
   "metadata": {},
   "outputs": [
    {
     "name": "stdout",
     "output_type": "stream",
     "text": [
      "VALIDATION ACCURACY 0.7307692307692307\n"
     ]
    }
   ],
   "source": [
    "from sklearn.metrics import accuracy_score\n",
    "\n",
    "print('VALIDATION ACCURACY', accuracy_score(y_sars, y_sars_pred))"
   ]
  },
  {
   "cell_type": "code",
   "execution_count": null,
   "metadata": {},
   "outputs": [],
   "source": []
  }
 ],
 "metadata": {
  "kernelspec": {
   "display_name": "venv37",
   "language": "python",
   "name": "venv37"
  },
  "language_info": {
   "codemirror_mode": {
    "name": "ipython",
    "version": 3
   },
   "file_extension": ".py",
   "mimetype": "text/x-python",
   "name": "python",
   "nbconvert_exporter": "python",
   "pygments_lexer": "ipython3",
   "version": "3.7.8"
  }
 },
 "nbformat": 4,
 "nbformat_minor": 4
}
