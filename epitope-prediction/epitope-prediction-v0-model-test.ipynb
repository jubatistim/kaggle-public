{
 "cells": [
  {
   "cell_type": "code",
   "execution_count": 2,
   "metadata": {},
   "outputs": [],
   "source": [
    "from keras.models import load_model\n",
    "import pickle\n",
    "from sklearn.preprocessing import StandardScaler\n",
    "\n",
    "model = load_model('epitope-prediction-v0.h5')\n",
    "\n",
    "sc = pickle.load(open( \"epitope-prediction-v0-sc.p\", \"rb\" ))"
   ]
  },
  {
   "cell_type": "code",
   "execution_count": 4,
   "metadata": {},
   "outputs": [
    {
     "data": {
      "text/html": [
       "<div>\n",
       "<style scoped>\n",
       "    .dataframe tbody tr th:only-of-type {\n",
       "        vertical-align: middle;\n",
       "    }\n",
       "\n",
       "    .dataframe tbody tr th {\n",
       "        vertical-align: top;\n",
       "    }\n",
       "\n",
       "    .dataframe thead th {\n",
       "        text-align: right;\n",
       "    }\n",
       "</style>\n",
       "<table border=\"1\" class=\"dataframe\">\n",
       "  <thead>\n",
       "    <tr style=\"text-align: right;\">\n",
       "      <th></th>\n",
       "      <th>parent_protein_id</th>\n",
       "      <th>protein_seq</th>\n",
       "      <th>start_position</th>\n",
       "      <th>end_position</th>\n",
       "      <th>peptide_seq</th>\n",
       "      <th>chou_fasman</th>\n",
       "      <th>emini</th>\n",
       "      <th>kolaskar_tongaonkar</th>\n",
       "      <th>parker</th>\n",
       "      <th>isoelectric_point</th>\n",
       "      <th>aromaticity</th>\n",
       "      <th>hydrophobicity</th>\n",
       "      <th>stability</th>\n",
       "      <th>target</th>\n",
       "    </tr>\n",
       "  </thead>\n",
       "  <tbody>\n",
       "    <tr>\n",
       "      <th>0</th>\n",
       "      <td>AAU93319</td>\n",
       "      <td>MFIFLLFLTLTSGSDLDRCTTFDDVQAPNYTQHTSSMRGVYYPDEI...</td>\n",
       "      <td>1</td>\n",
       "      <td>17</td>\n",
       "      <td>MFIFLLFLTLTSGSDLD</td>\n",
       "      <td>0.887</td>\n",
       "      <td>0.040</td>\n",
       "      <td>1.056</td>\n",
       "      <td>-2.159</td>\n",
       "      <td>5.569763</td>\n",
       "      <td>0.116335</td>\n",
       "      <td>-0.061116</td>\n",
       "      <td>33.205116</td>\n",
       "      <td>0</td>\n",
       "    </tr>\n",
       "    <tr>\n",
       "      <th>1</th>\n",
       "      <td>AAU93319</td>\n",
       "      <td>MFIFLLFLTLTSGSDLDRCTTFDDVQAPNYTQHTSSMRGVYYPDEI...</td>\n",
       "      <td>1</td>\n",
       "      <td>15</td>\n",
       "      <td>MFIFLLFLTLTSGSD</td>\n",
       "      <td>0.869</td>\n",
       "      <td>0.047</td>\n",
       "      <td>1.056</td>\n",
       "      <td>-2.500</td>\n",
       "      <td>5.569763</td>\n",
       "      <td>0.116335</td>\n",
       "      <td>-0.061116</td>\n",
       "      <td>33.205116</td>\n",
       "      <td>0</td>\n",
       "    </tr>\n",
       "    <tr>\n",
       "      <th>2</th>\n",
       "      <td>AAU93319</td>\n",
       "      <td>MFIFLLFLTLTSGSDLDRCTTFDDVQAPNYTQHTSSMRGVYYPDEI...</td>\n",
       "      <td>2</td>\n",
       "      <td>10</td>\n",
       "      <td>FIFLLFLTL</td>\n",
       "      <td>0.621</td>\n",
       "      <td>0.042</td>\n",
       "      <td>1.148</td>\n",
       "      <td>-7.467</td>\n",
       "      <td>5.569763</td>\n",
       "      <td>0.116335</td>\n",
       "      <td>-0.061116</td>\n",
       "      <td>33.205116</td>\n",
       "      <td>0</td>\n",
       "    </tr>\n",
       "    <tr>\n",
       "      <th>3</th>\n",
       "      <td>AAU93319</td>\n",
       "      <td>MFIFLLFLTLTSGSDLDRCTTFDDVQAPNYTQHTSSMRGVYYPDEI...</td>\n",
       "      <td>6</td>\n",
       "      <td>20</td>\n",
       "      <td>LFLTLTSGSDLDRCT</td>\n",
       "      <td>1.021</td>\n",
       "      <td>0.230</td>\n",
       "      <td>1.049</td>\n",
       "      <td>0.927</td>\n",
       "      <td>5.569763</td>\n",
       "      <td>0.116335</td>\n",
       "      <td>-0.061116</td>\n",
       "      <td>33.205116</td>\n",
       "      <td>0</td>\n",
       "    </tr>\n",
       "    <tr>\n",
       "      <th>4</th>\n",
       "      <td>AAU93319</td>\n",
       "      <td>MFIFLLFLTLTSGSDLDRCTTFDDVQAPNYTQHTSSMRGVYYPDEI...</td>\n",
       "      <td>9</td>\n",
       "      <td>25</td>\n",
       "      <td>TLTSGSDLDRCTTFDDV</td>\n",
       "      <td>1.089</td>\n",
       "      <td>0.627</td>\n",
       "      <td>1.015</td>\n",
       "      <td>3.165</td>\n",
       "      <td>5.569763</td>\n",
       "      <td>0.116335</td>\n",
       "      <td>-0.061116</td>\n",
       "      <td>33.205116</td>\n",
       "      <td>0</td>\n",
       "    </tr>\n",
       "  </tbody>\n",
       "</table>\n",
       "</div>"
      ],
      "text/plain": [
       "  parent_protein_id                                        protein_seq  \\\n",
       "0          AAU93319  MFIFLLFLTLTSGSDLDRCTTFDDVQAPNYTQHTSSMRGVYYPDEI...   \n",
       "1          AAU93319  MFIFLLFLTLTSGSDLDRCTTFDDVQAPNYTQHTSSMRGVYYPDEI...   \n",
       "2          AAU93319  MFIFLLFLTLTSGSDLDRCTTFDDVQAPNYTQHTSSMRGVYYPDEI...   \n",
       "3          AAU93319  MFIFLLFLTLTSGSDLDRCTTFDDVQAPNYTQHTSSMRGVYYPDEI...   \n",
       "4          AAU93319  MFIFLLFLTLTSGSDLDRCTTFDDVQAPNYTQHTSSMRGVYYPDEI...   \n",
       "\n",
       "   start_position  end_position        peptide_seq  chou_fasman  emini  \\\n",
       "0               1            17  MFIFLLFLTLTSGSDLD        0.887  0.040   \n",
       "1               1            15    MFIFLLFLTLTSGSD        0.869  0.047   \n",
       "2               2            10          FIFLLFLTL        0.621  0.042   \n",
       "3               6            20    LFLTLTSGSDLDRCT        1.021  0.230   \n",
       "4               9            25  TLTSGSDLDRCTTFDDV        1.089  0.627   \n",
       "\n",
       "   kolaskar_tongaonkar  parker  isoelectric_point  aromaticity  \\\n",
       "0                1.056  -2.159           5.569763     0.116335   \n",
       "1                1.056  -2.500           5.569763     0.116335   \n",
       "2                1.148  -7.467           5.569763     0.116335   \n",
       "3                1.049   0.927           5.569763     0.116335   \n",
       "4                1.015   3.165           5.569763     0.116335   \n",
       "\n",
       "   hydrophobicity  stability  target  \n",
       "0       -0.061116  33.205116       0  \n",
       "1       -0.061116  33.205116       0  \n",
       "2       -0.061116  33.205116       0  \n",
       "3       -0.061116  33.205116       0  \n",
       "4       -0.061116  33.205116       0  "
      ]
     },
     "execution_count": 4,
     "metadata": {},
     "output_type": "execute_result"
    }
   ],
   "source": [
    "import pandas as pd\n",
    "\n",
    "sars = pd.read_csv('795813_1365687_bundle_archive/input_sars.csv')\n",
    "\n",
    "sars.head()"
   ]
  },
  {
   "cell_type": "code",
   "execution_count": 5,
   "metadata": {},
   "outputs": [
    {
     "data": {
      "text/html": [
       "<div>\n",
       "<style scoped>\n",
       "    .dataframe tbody tr th:only-of-type {\n",
       "        vertical-align: middle;\n",
       "    }\n",
       "\n",
       "    .dataframe tbody tr th {\n",
       "        vertical-align: top;\n",
       "    }\n",
       "\n",
       "    .dataframe thead th {\n",
       "        text-align: right;\n",
       "    }\n",
       "</style>\n",
       "<table border=\"1\" class=\"dataframe\">\n",
       "  <thead>\n",
       "    <tr style=\"text-align: right;\">\n",
       "      <th></th>\n",
       "      <th>start_position</th>\n",
       "      <th>end_position</th>\n",
       "      <th>chou_fasman</th>\n",
       "      <th>emini</th>\n",
       "      <th>kolaskar_tongaonkar</th>\n",
       "      <th>parker</th>\n",
       "      <th>isoelectric_point</th>\n",
       "      <th>aromaticity</th>\n",
       "      <th>hydrophobicity</th>\n",
       "      <th>stability</th>\n",
       "    </tr>\n",
       "  </thead>\n",
       "  <tbody>\n",
       "    <tr>\n",
       "      <th>0</th>\n",
       "      <td>1</td>\n",
       "      <td>17</td>\n",
       "      <td>0.887</td>\n",
       "      <td>0.040</td>\n",
       "      <td>1.056</td>\n",
       "      <td>-2.159</td>\n",
       "      <td>5.569763</td>\n",
       "      <td>0.116335</td>\n",
       "      <td>-0.061116</td>\n",
       "      <td>33.205116</td>\n",
       "    </tr>\n",
       "    <tr>\n",
       "      <th>1</th>\n",
       "      <td>1</td>\n",
       "      <td>15</td>\n",
       "      <td>0.869</td>\n",
       "      <td>0.047</td>\n",
       "      <td>1.056</td>\n",
       "      <td>-2.500</td>\n",
       "      <td>5.569763</td>\n",
       "      <td>0.116335</td>\n",
       "      <td>-0.061116</td>\n",
       "      <td>33.205116</td>\n",
       "    </tr>\n",
       "    <tr>\n",
       "      <th>2</th>\n",
       "      <td>2</td>\n",
       "      <td>10</td>\n",
       "      <td>0.621</td>\n",
       "      <td>0.042</td>\n",
       "      <td>1.148</td>\n",
       "      <td>-7.467</td>\n",
       "      <td>5.569763</td>\n",
       "      <td>0.116335</td>\n",
       "      <td>-0.061116</td>\n",
       "      <td>33.205116</td>\n",
       "    </tr>\n",
       "    <tr>\n",
       "      <th>3</th>\n",
       "      <td>6</td>\n",
       "      <td>20</td>\n",
       "      <td>1.021</td>\n",
       "      <td>0.230</td>\n",
       "      <td>1.049</td>\n",
       "      <td>0.927</td>\n",
       "      <td>5.569763</td>\n",
       "      <td>0.116335</td>\n",
       "      <td>-0.061116</td>\n",
       "      <td>33.205116</td>\n",
       "    </tr>\n",
       "    <tr>\n",
       "      <th>4</th>\n",
       "      <td>9</td>\n",
       "      <td>25</td>\n",
       "      <td>1.089</td>\n",
       "      <td>0.627</td>\n",
       "      <td>1.015</td>\n",
       "      <td>3.165</td>\n",
       "      <td>5.569763</td>\n",
       "      <td>0.116335</td>\n",
       "      <td>-0.061116</td>\n",
       "      <td>33.205116</td>\n",
       "    </tr>\n",
       "  </tbody>\n",
       "</table>\n",
       "</div>"
      ],
      "text/plain": [
       "   start_position  end_position  chou_fasman  emini  kolaskar_tongaonkar  \\\n",
       "0               1            17        0.887  0.040                1.056   \n",
       "1               1            15        0.869  0.047                1.056   \n",
       "2               2            10        0.621  0.042                1.148   \n",
       "3               6            20        1.021  0.230                1.049   \n",
       "4               9            25        1.089  0.627                1.015   \n",
       "\n",
       "   parker  isoelectric_point  aromaticity  hydrophobicity  stability  \n",
       "0  -2.159           5.569763     0.116335       -0.061116  33.205116  \n",
       "1  -2.500           5.569763     0.116335       -0.061116  33.205116  \n",
       "2  -7.467           5.569763     0.116335       -0.061116  33.205116  \n",
       "3   0.927           5.569763     0.116335       -0.061116  33.205116  \n",
       "4   3.165           5.569763     0.116335       -0.061116  33.205116  "
      ]
     },
     "execution_count": 5,
     "metadata": {},
     "output_type": "execute_result"
    }
   ],
   "source": [
    "X_sars = sars.drop(columns=['parent_protein_id', 'protein_seq', 'peptide_seq', 'target'])\n",
    "X_sars.head()"
   ]
  },
  {
   "cell_type": "code",
   "execution_count": 6,
   "metadata": {},
   "outputs": [
    {
     "data": {
      "text/plain": [
       "0    0\n",
       "1    0\n",
       "2    0\n",
       "3    0\n",
       "4    0\n",
       "Name: target, dtype: int64"
      ]
     },
     "execution_count": 6,
     "metadata": {},
     "output_type": "execute_result"
    }
   ],
   "source": [
    "y_sars = sars['target']\n",
    "y_sars.head()"
   ]
  },
  {
   "cell_type": "code",
   "execution_count": 7,
   "metadata": {},
   "outputs": [
    {
     "data": {
      "text/plain": [
       "array([[-1.76629438, -1.77339156, -1.30234227, ...,  0.        ,\n",
       "         1.        , -1.        ],\n",
       "       [-1.76629438, -1.77912256, -1.50898617, ...,  0.        ,\n",
       "         1.        , -1.        ],\n",
       "       [-1.76343107, -1.79345006, -4.35607989, ...,  0.        ,\n",
       "         1.        , -1.        ],\n",
       "       ...,\n",
       "       [ 1.76989555,  1.77409692,  0.23600676, ...,  0.        ,\n",
       "         1.        , -1.        ],\n",
       "       [ 1.76989555,  1.75976942,  0.58041326, ...,  0.        ,\n",
       "         1.        , -1.        ],\n",
       "       [ 1.7842121 ,  1.77409692,  0.31636828, ...,  0.        ,\n",
       "         1.        , -1.        ]])"
      ]
     },
     "execution_count": 7,
     "metadata": {},
     "output_type": "execute_result"
    }
   ],
   "source": [
    "X_sars = sc.fit_transform(X_sars)\n",
    "\n",
    "X_sars"
   ]
  },
  {
   "cell_type": "code",
   "execution_count": 9,
   "metadata": {},
   "outputs": [
    {
     "data": {
      "text/plain": [
       "array([[195, 185],\n",
       "       [ 62,  78]], dtype=int64)"
      ]
     },
     "execution_count": 9,
     "metadata": {},
     "output_type": "execute_result"
    }
   ],
   "source": [
    "# Predicting the Test set results\n",
    "\n",
    "y_sars_pred = model.predict(X_sars)\n",
    "y_sars_pred = (y_sars_pred > 0.5)\n",
    "\n",
    "# Making the Confusion Matrix\n",
    "from sklearn.metrics import confusion_matrix\n",
    "cm = confusion_matrix(y_sars, y_sars_pred)\n",
    "\n",
    "cm"
   ]
  },
  {
   "cell_type": "code",
   "execution_count": 10,
   "metadata": {},
   "outputs": [
    {
     "name": "stdout",
     "output_type": "stream",
     "text": [
      "VALIDATION ACCURACY 0.525\n"
     ]
    }
   ],
   "source": [
    "from sklearn.metrics import accuracy_score\n",
    "\n",
    "print('VALIDATION ACCURACY', accuracy_score(y_sars, y_sars_pred))"
   ]
  },
  {
   "cell_type": "code",
   "execution_count": null,
   "metadata": {},
   "outputs": [],
   "source": []
  }
 ],
 "metadata": {
  "kernelspec": {
   "display_name": "venv37",
   "language": "python",
   "name": "venv37"
  },
  "language_info": {
   "codemirror_mode": {
    "name": "ipython",
    "version": 3
   },
   "file_extension": ".py",
   "mimetype": "text/x-python",
   "name": "python",
   "nbconvert_exporter": "python",
   "pygments_lexer": "ipython3",
   "version": "3.7.8"
  }
 },
 "nbformat": 4,
 "nbformat_minor": 4
}
